{
  "nbformat": 4,
  "nbformat_minor": 0,
  "metadata": {
    "colab": {
      "provenance": []
    },
    "kernelspec": {
      "name": "python3",
      "display_name": "Python 3"
    },
    "language_info": {
      "name": "python"
    }
  },
  "cells": [
    {
      "cell_type": "code",
      "execution_count": null,
      "metadata": {
        "colab": {
          "base_uri": "https://localhost:8080/"
        },
        "id": "LkypaAIFMKtR",
        "outputId": "5600ec10-6de5-4175-e910-4149eb5b2beb"
      },
      "outputs": [
        {
          "output_type": "stream",
          "name": "stdout",
          "text": [
            "This  is  Matrix     \n"
          ]
        }
      ],
      "source": [
        "\n",
        "def decode_matrix(inputmatrix):\n",
        "    rows, cols = map(int, inputmatrix[0].split())\n",
        "\n",
        "    matrix = []\n",
        "\n",
        "    for row in inputmatrix[1:]:\n",
        "        matrix.append(list(row))\n",
        "\n",
        "    decoded_text = ''\n",
        "    for col in range(cols):\n",
        "        for row in range(rows):\n",
        "            if not matrix[row][col].isalnum():\n",
        "                decoded_text += ' '\n",
        "            else:\n",
        "                decoded_text += matrix[row][col]\n",
        "\n",
        "    return decoded_text\n",
        "\n",
        "inputmatrix = [\n",
        "    '7 3',\n",
        "    'Tsi',\n",
        "    'h%x',\n",
        "    'i #',\n",
        "    'sM ',\n",
        "    '$a ',\n",
        "    '#t%',\n",
        "    'ir!'\n",
        "]\n",
        "\n",
        "print(decode_matrix(inputmatrix))"
      ]
    }
  ]
}