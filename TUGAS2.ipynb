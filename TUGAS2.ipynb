{
  "nbformat": 4,
  "nbformat_minor": 0,
  "metadata": {
    "colab": {
      "provenance": [],
      "authorship_tag": "ABX9TyOj+0mLEyfplAcW20eQIheD",
      "include_colab_link": true
    },
    "kernelspec": {
      "name": "python3",
      "display_name": "Python 3"
    },
    "language_info": {
      "name": "python"
    }
  },
  "cells": [
    {
      "cell_type": "markdown",
      "metadata": {
        "id": "view-in-github",
        "colab_type": "text"
      },
      "source": [
        "<a href=\"https://colab.research.google.com/github/femashernanda/PL/blob/main/TUGAS2.ipynb\" target=\"_parent\"><img src=\"https://colab.research.google.com/assets/colab-badge.svg\" alt=\"Open In Colab\"/></a>"
      ]
    },
    {
      "cell_type": "code",
      "execution_count": null,
      "metadata": {
        "colab": {
          "base_uri": "https://localhost:8080/"
        },
        "id": "1BVtpU7dEGi_",
        "outputId": "6e087bc1-7415-4b0e-9912-8514ade795f0"
      },
      "outputs": [
        {
          "output_type": "stream",
          "name": "stdout",
          "text": [
            "Pilih tugas \n",
            "1. Part A\n",
            "2. Part B\n"
          ]
        }
      ],
      "source": [
        "print(\"Pilih tugas \\n1. Part A\\n2. Part B\")\n",
        "pilihan = int(input(\"Pilihan Anda: \"))\n",
        "\n",
        "#Tugas A/B\n",
        "import os\n",
        "os.system('cls')\n",
        "\n",
        "#A\n",
        "if pilihan == 1:\n",
        "    n = int(input(\"Masukkan n: \"))\n",
        "    for i in range(n):\n",
        "        print(i**2)\n",
        "\n",
        "#B\n",
        "elif pilihan == 2:\n",
        "    n = int(input(\"Masukkan n: \"))\n",
        "    for i in range(n):\n",
        "        if i % 2 == 1 or i == 0:\n",
        "            print(i**2)\n",
        "else:\n",
        "    print(\"Undefined\")"
      ]
    }
  ]
}