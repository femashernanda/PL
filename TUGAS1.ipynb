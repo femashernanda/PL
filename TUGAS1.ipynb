{
  "nbformat": 4,
  "nbformat_minor": 0,
  "metadata": {
    "colab": {
      "provenance": [],
      "authorship_tag": "ABX9TyNdI98u/aJk5pFN9zXWGeSB",
      "include_colab_link": true
    },
    "kernelspec": {
      "name": "python3",
      "display_name": "Python 3"
    },
    "language_info": {
      "name": "python"
    }
  },
  "cells": [
    {
      "cell_type": "markdown",
      "metadata": {
        "id": "view-in-github",
        "colab_type": "text"
      },
      "source": [
        "<a href=\"https://colab.research.google.com/github/femashernanda/PL/blob/main/TUGAS1.ipynb\" target=\"_parent\"><img src=\"https://colab.research.google.com/assets/colab-badge.svg\" alt=\"Open In Colab\"/></a>"
      ]
    },
    {
      "cell_type": "code",
      "execution_count": 2,
      "metadata": {
        "colab": {
          "base_uri": "https://localhost:8080/"
        },
        "id": "IeXodQ2BaRGT",
        "outputId": "4371727f-4de6-4954-e292-76fda2e04ead"
      },
      "outputs": [
        {
          "output_type": "stream",
          "name": "stdout",
          "text": [
            "perhitungan nilai Mahasiswa\n",
            "input nilai Tugas Anda :\n",
            " 56\n",
            "input nilai UTS Anda :\n",
            " 77\n",
            "input nilai UAS Anda :\n",
            " 88\n",
            "Nilai akhir : 76.15\n",
            "numerik : B+\n"
          ]
        }
      ],
      "source": [
        "def hitung_na (nt, uts, uas):\n",
        "  na = 0.25*nt+0.35*uts+0.4*uas\n",
        "  return na\n",
        "\n",
        "def penilaian(na):\n",
        "  if na > 85:\n",
        "    return \"A\"\n",
        "  elif 80 < na <= 85:\n",
        "    return \"A-\"\n",
        "  elif 75 < na <= 80:\n",
        "    return \"B+\"\n",
        "  elif 70 < na <= 75:\n",
        "    return \"B\"\n",
        "  elif 65 < na <= 70:\n",
        "    return \"B-\"\n",
        "  elif 60 < na <= 65:\n",
        "    return \"C+\"\n",
        "  elif 55 < na <= 60:\n",
        "    return \"C\"\n",
        "  elif 50 < na <= 55:\n",
        "    return \"C-\"\n",
        "  elif 30 < na <= 50:\n",
        "    return \"D\"\n",
        "  else:\n",
        "    return \"E\"\n",
        "\n",
        "print(\"perhitungan nilai Mahasiswa\")\n",
        "nt = float(input(\"input nilai Tugas Anda :\\n \"))\n",
        "uts = float(input(\"input nilai UTS Anda :\\n \"))\n",
        "uas = float(input(\"input nilai UAS Anda :\\n \"))\n",
        "\n",
        "na = hitung_na (nt, uts, uas)\n",
        "nilai = penilaian (na)\n",
        "\n",
        "print(f\"Nilai akhir : {na}\")\n",
        "print(f\"numerik : {nilai}\")"
      ]
    }
  ]
}