{
  "nbformat": 4,
  "nbformat_minor": 0,
  "metadata": {
    "colab": {
      "provenance": [],
      "authorship_tag": "ABX9TyMTuOV8y3d0Gf9iqOUySd/O",
      "include_colab_link": true
    },
    "kernelspec": {
      "name": "python3",
      "display_name": "Python 3"
    },
    "language_info": {
      "name": "python"
    }
  },
  "cells": [
    {
      "cell_type": "markdown",
      "metadata": {
        "id": "view-in-github",
        "colab_type": "text"
      },
      "source": [
        "<a href=\"https://colab.research.google.com/github/femashernanda/PL/blob/main/TB1.ipynb\" target=\"_parent\"><img src=\"https://colab.research.google.com/assets/colab-badge.svg\" alt=\"Open In Colab\"/></a>"
      ]
    },
    {
      "cell_type": "code",
      "execution_count": 1,
      "metadata": {
        "colab": {
          "base_uri": "https://localhost:8080/"
        },
        "id": "PECbCsYRGjWF",
        "outputId": "6c4f805d-e3b9-49b3-dbd4-e05a0abb1c57"
      },
      "outputs": [
        {
          "output_type": "stream",
          "name": "stdout",
          "text": [
            "This  is  Matrix     \n"
          ]
        }
      ],
      "source": [
        "def decode_matrix(input_matrix):\n",
        "    rows, cols = map(int, input_matrix[0].split())\n",
        "\n",
        "    matrix = []\n",
        "\n",
        "    for row in input_matrix[1:]:\n",
        "        matrix.append(list(row))\n",
        "\n",
        "    decoded_text = ''\n",
        "    for col in range(cols):\n",
        "        for row in range(rows):\n",
        "            if not matrix[row][col].isalnum():\n",
        "                decoded_text += ' '\n",
        "            else:\n",
        "                decoded_text += matrix[row][col]\n",
        "\n",
        "    return decoded_text\n",
        "\n",
        "input_matrix = [\n",
        "    '7 3',\n",
        "    'Tsi',\n",
        "    'h%x',\n",
        "    'i #',\n",
        "    'sM ',\n",
        "    '$a ',\n",
        "    '#t%',\n",
        "    'ir!'\n",
        "]\n",
        "\n",
        "print(decode_matrix(input_matrix))"
      ]
    }
  ]
}