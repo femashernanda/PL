{
  "nbformat": 4,
  "nbformat_minor": 0,
  "metadata": {
    "colab": {
      "provenance": [],
      "authorship_tag": "ABX9TyPg3j914EZfqKNfzUnNeyLP",
      "include_colab_link": true
    },
    "kernelspec": {
      "name": "python3",
      "display_name": "Python 3"
    },
    "language_info": {
      "name": "python"
    }
  },
  "cells": [
    {
      "cell_type": "markdown",
      "metadata": {
        "id": "view-in-github",
        "colab_type": "text"
      },
      "source": [
        "<a href=\"https://colab.research.google.com/github/femashernanda/PL/blob/main/TB1.ipynb\" target=\"_parent\"><img src=\"https://colab.research.google.com/assets/colab-badge.svg\" alt=\"Open In Colab\"/></a>"
      ]
    },
    {
      "cell_type": "code",
      "execution_count": null,
      "metadata": {
        "id": "cpgyQ9Wh6PPZ"
      },
      "outputs": [],
      "source": [
        "def decode_matrix(input_matrix):\n",
        "    rows, cols = map(int, input_matrix[0].split())\n",
        "\n",
        "    matrix = []\n",
        "\n",
        "    for row in input_matrix[1:]:\n",
        "        matrix.append(list(row))\n",
        "\n",
        "    decoded_text = ''\n",
        "    for col in range(cols):\n",
        "        for row in range(rows):\n",
        "            if not matrix[row][col].isalnum():\n",
        "                decoded_text += ' '\n",
        "            else:\n",
        "                decoded_text += matrix[row][col]\n",
        "\n",
        "    return decoded_text\n",
        "\n",
        "input_matrix = [\n",
        "    '7 3',\n",
        "    'Tsi',\n",
        "    'h%x',\n",
        "    'i #',\n",
        "    'sM ',\n",
        "    '$a ',\n",
        "    '#t%',\n",
        "    'ir!'\n",
        "]\n",
        "\n",
        "print(decode_matrix(input_matrix))"
      ]
    },
    {
      "cell_type": "code",
      "source": [
        "def decode_matrix(input_matrix):\n",
        "    rows, cols = map(int, input_matrix[0].split())\n",
        "\n",
        "    matrix = []\n",
        "\n",
        "    for row in input_matrix[1:]:\n",
        "        matrix.append(list(row))\n",
        "\n",
        "    decoded_text = ''\n",
        "    for col in range(cols):\n",
        "        for row in range(rows):\n",
        "            if not matrix[row][col].isalnum():\n",
        "                decoded_text += ' '\n",
        "            else:\n",
        "                decoded_text += matrix[row][col]\n",
        "\n",
        "    return decoded_text\n",
        "\n",
        "with open('neomatrix.txt', 'r') as file:\n",
        "    input_matrix = file.readlines()\n",
        "\n",
        "print(decode_matrix(input_matrix))"
      ],
      "metadata": {
        "id": "4mmA6Zyw6lb1"
      },
      "execution_count": null,
      "outputs": []
    },
    {
      "cell_type": "code",
      "source": [
        "import re\n",
        "\n",
        "with open('neomatrix.txt', 'r') as file:\n",
        "    lines = file.readlines()\n",
        "\n",
        "file_input = lines[0].rstrip().split()\n",
        "n = int(file_input[0])\n",
        "m = int(file_input[1])\n",
        "\n",
        "neomatrix = lines[1:]\n",
        "decoded_list = list(zip(*neomatrix))\n",
        "decoded_string = ''.join([''.join(item) for item in decoded_list])\n",
        "\n",
        "decoded_string = re.sub(r'[^a-zA-Z0-9]+\\b', r' ', decoded_string).strip()\n",
        "\n",
        "print(decoded_string)"
      ],
      "metadata": {
        "id": "PTDuSfvO6uF6"
      },
      "execution_count": null,
      "outputs": []
    }
  ]
}