{
  "nbformat": 4,
  "nbformat_minor": 0,
  "metadata": {
    "colab": {
      "provenance": [],
      "authorship_tag": "ABX9TyPg3j914EZfqKNfzUnNeyLP",
      "include_colab_link": true
    },
    "kernelspec": {
      "name": "python3",
      "display_name": "Python 3"
    },
    "language_info": {
      "name": "python"
    }
  },
  "cells": [
    {
      "cell_type": "markdown",
      "metadata": {
        "id": "view-in-github",
        "colab_type": "text"
      },
      "source": [
        "<a href=\"https://colab.research.google.com/github/femashernanda/PL/blob/main/TB1.ipynb\" target=\"_parent\"><img src=\"https://colab.research.google.com/assets/colab-badge.svg\" alt=\"Open In Colab\"/></a>"
      ]
    },
    {
      "cell_type": "code",
      "execution_count": 1,
      "metadata": {
        "colab": {
          "base_uri": "https://localhost:8080/"
        },
        "id": "cpgyQ9Wh6PPZ",
        "outputId": "cef33406-e014-43d9-d6c7-e14042a56b13"
      },
      "outputs": [
        {
          "output_type": "stream",
          "name": "stdout",
          "text": [
            "This  is  Matrix     \n"
          ]
        }
      ],
      "source": [
        "def decode_matrix(input_matrix):\n",
        "    rows, cols = map(int, input_matrix[0].split())\n",
        "\n",
        "    matrix = []\n",
        "\n",
        "    for row in input_matrix[1:]:\n",
        "        matrix.append(list(row))\n",
        "\n",
        "    decoded_text = ''\n",
        "    for col in range(cols):\n",
        "        for row in range(rows):\n",
        "            if not matrix[row][col].isalnum():\n",
        "                decoded_text += ' '\n",
        "            else:\n",
        "                decoded_text += matrix[row][col]\n",
        "\n",
        "    return decoded_text\n",
        "\n",
        "input_matrix = [\n",
        "    '7 3',\n",
        "    'Tsi',\n",
        "    'h%x',\n",
        "    'i #',\n",
        "    'sM ',\n",
        "    '$a ',\n",
        "    '#t%',\n",
        "    'ir!'\n",
        "]\n",
        "\n",
        "print(decode_matrix(input_matrix))"
      ]
    },
    {
      "cell_type": "code",
      "source": [
        "def decode_matrix(input_matrix):\n",
        "    rows, cols = map(int, input_matrix[0].split())\n",
        "\n",
        "    matrix = []\n",
        "\n",
        "    for row in input_matrix[1:]:\n",
        "        matrix.append(list(row))\n",
        "\n",
        "    decoded_text = ''\n",
        "    for col in range(cols):\n",
        "        for row in range(rows):\n",
        "            if not matrix[row][col].isalnum():\n",
        "                decoded_text += ' '\n",
        "            else:\n",
        "                decoded_text += matrix[row][col]\n",
        "\n",
        "    return decoded_text\n",
        "\n",
        "with open('neomatrix.txt', 'r') as file:\n",
        "    input_matrix = file.readlines()\n",
        "\n",
        "print(decode_matrix(input_matrix))"
      ],
      "metadata": {
        "colab": {
          "base_uri": "https://localhost:8080/",
          "height": 211
        },
        "id": "4mmA6Zyw6lb1",
        "outputId": "7d14089d-9a8d-484d-eeac-1245a5b41ab3"
      },
      "execution_count": 2,
      "outputs": [
        {
          "output_type": "error",
          "ename": "FileNotFoundError",
          "evalue": "[Errno 2] No such file or directory: 'neomatrix.txt'",
          "traceback": [
            "\u001b[0;31m---------------------------------------------------------------------------\u001b[0m",
            "\u001b[0;31mFileNotFoundError\u001b[0m                         Traceback (most recent call last)",
            "\u001b[0;32m<ipython-input-2-568b12e41a60>\u001b[0m in \u001b[0;36m<cell line: 19>\u001b[0;34m()\u001b[0m\n\u001b[1;32m     17\u001b[0m     \u001b[0;32mreturn\u001b[0m \u001b[0mdecoded_text\u001b[0m\u001b[0;34m\u001b[0m\u001b[0;34m\u001b[0m\u001b[0m\n\u001b[1;32m     18\u001b[0m \u001b[0;34m\u001b[0m\u001b[0m\n\u001b[0;32m---> 19\u001b[0;31m \u001b[0;32mwith\u001b[0m \u001b[0mopen\u001b[0m\u001b[0;34m(\u001b[0m\u001b[0;34m'neomatrix.txt'\u001b[0m\u001b[0;34m,\u001b[0m \u001b[0;34m'r'\u001b[0m\u001b[0;34m)\u001b[0m \u001b[0;32mas\u001b[0m \u001b[0mfile\u001b[0m\u001b[0;34m:\u001b[0m\u001b[0;34m\u001b[0m\u001b[0;34m\u001b[0m\u001b[0m\n\u001b[0m\u001b[1;32m     20\u001b[0m     \u001b[0minput_matrix\u001b[0m \u001b[0;34m=\u001b[0m \u001b[0mfile\u001b[0m\u001b[0;34m.\u001b[0m\u001b[0mreadlines\u001b[0m\u001b[0;34m(\u001b[0m\u001b[0;34m)\u001b[0m\u001b[0;34m\u001b[0m\u001b[0;34m\u001b[0m\u001b[0m\n\u001b[1;32m     21\u001b[0m \u001b[0;34m\u001b[0m\u001b[0m\n",
            "\u001b[0;31mFileNotFoundError\u001b[0m: [Errno 2] No such file or directory: 'neomatrix.txt'"
          ]
        }
      ]
    },
    {
      "cell_type": "code",
      "source": [
        "import re\n",
        "\n",
        "with open('neomatrix.txt', 'r') as file:\n",
        "    lines = file.readlines()\n",
        "\n",
        "file_input = lines[0].rstrip().split()\n",
        "n = int(file_input[0])\n",
        "m = int(file_input[1])\n",
        "\n",
        "neomatrix = lines[1:]\n",
        "decoded_list = list(zip(*neomatrix))\n",
        "decoded_string = ''.join([''.join(item) for item in decoded_list])\n",
        "\n",
        "decoded_string = re.sub(r'[^a-zA-Z0-9]+\\b', r' ', decoded_string).strip()\n",
        "\n",
        "print(decoded_string)"
      ],
      "metadata": {
        "colab": {
          "base_uri": "https://localhost:8080/",
          "height": 211
        },
        "id": "PTDuSfvO6uF6",
        "outputId": "9210d1d1-4a56-4a15-dedd-7c0fb1a20885"
      },
      "execution_count": 3,
      "outputs": [
        {
          "output_type": "error",
          "ename": "FileNotFoundError",
          "evalue": "[Errno 2] No such file or directory: 'neomatrix.txt'",
          "traceback": [
            "\u001b[0;31m---------------------------------------------------------------------------\u001b[0m",
            "\u001b[0;31mFileNotFoundError\u001b[0m                         Traceback (most recent call last)",
            "\u001b[0;32m<ipython-input-3-940cbe52965b>\u001b[0m in \u001b[0;36m<cell line: 3>\u001b[0;34m()\u001b[0m\n\u001b[1;32m      1\u001b[0m \u001b[0;32mimport\u001b[0m \u001b[0mre\u001b[0m\u001b[0;34m\u001b[0m\u001b[0;34m\u001b[0m\u001b[0m\n\u001b[1;32m      2\u001b[0m \u001b[0;34m\u001b[0m\u001b[0m\n\u001b[0;32m----> 3\u001b[0;31m \u001b[0;32mwith\u001b[0m \u001b[0mopen\u001b[0m\u001b[0;34m(\u001b[0m\u001b[0;34m'neomatrix.txt'\u001b[0m\u001b[0;34m,\u001b[0m \u001b[0;34m'r'\u001b[0m\u001b[0;34m)\u001b[0m \u001b[0;32mas\u001b[0m \u001b[0mfile\u001b[0m\u001b[0;34m:\u001b[0m\u001b[0;34m\u001b[0m\u001b[0;34m\u001b[0m\u001b[0m\n\u001b[0m\u001b[1;32m      4\u001b[0m     \u001b[0mlines\u001b[0m \u001b[0;34m=\u001b[0m \u001b[0mfile\u001b[0m\u001b[0;34m.\u001b[0m\u001b[0mreadlines\u001b[0m\u001b[0;34m(\u001b[0m\u001b[0;34m)\u001b[0m\u001b[0;34m\u001b[0m\u001b[0;34m\u001b[0m\u001b[0m\n\u001b[1;32m      5\u001b[0m \u001b[0;34m\u001b[0m\u001b[0m\n",
            "\u001b[0;31mFileNotFoundError\u001b[0m: [Errno 2] No such file or directory: 'neomatrix.txt'"
          ]
        }
      ]
    }
  ]
}